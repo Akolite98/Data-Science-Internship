{
 "cells": [
  {
   "cell_type": "code",
   "execution_count": 3,
   "id": "8e8444b2",
   "metadata": {},
   "outputs": [],
   "source": [
    "days =  (\"monday\", \"Tuesday\", \"wed\")"
   ]
  },
  {
   "cell_type": "code",
   "execution_count": 4,
   "id": "83cdcafa",
   "metadata": {},
   "outputs": [
    {
     "data": {
      "text/plain": [
       "tuple"
      ]
     },
     "execution_count": 4,
     "metadata": {},
     "output_type": "execute_result"
    }
   ],
   "source": [
    "type(days)\n"
   ]
  },
  {
   "cell_type": "code",
   "execution_count": 1,
   "id": "2bb50cd0",
   "metadata": {},
   "outputs": [
    {
     "name": "stdout",
     "output_type": "stream",
     "text": [
      "Hello world\n"
     ]
    }
   ],
   "source": [
    "new_var = \"Hello world\"\n",
    "\n",
    "print(new_var)"
   ]
  },
  {
   "cell_type": "code",
   "execution_count": 8,
   "id": "d8748fe6",
   "metadata": {},
   "outputs": [
    {
     "data": {
      "text/plain": [
       "list"
      ]
     },
     "execution_count": 8,
     "metadata": {},
     "output_type": "execute_result"
    }
   ],
   "source": [
    "#lists\n",
    "\n",
    "num  = [1,2,3,4,5,6]\n",
    "type(num)"
   ]
  },
  {
   "cell_type": "code",
   "execution_count": 9,
   "id": "2166f0b8",
   "metadata": {},
   "outputs": [
    {
     "data": {
      "text/plain": [
       "6"
      ]
     },
     "execution_count": 9,
     "metadata": {},
     "output_type": "execute_result"
    }
   ],
   "source": [
    "num.pop()"
   ]
  },
  {
   "cell_type": "code",
   "execution_count": 10,
   "id": "15245b70",
   "metadata": {},
   "outputs": [
    {
     "data": {
      "text/plain": [
       "[1, 2, 3, 4, 5]"
      ]
     },
     "execution_count": 10,
     "metadata": {},
     "output_type": "execute_result"
    }
   ],
   "source": [
    "num"
   ]
  },
  {
   "cell_type": "code",
   "execution_count": 5,
   "id": "671a28d0",
   "metadata": {},
   "outputs": [
    {
     "name": "stdout",
     "output_type": "stream",
     "text": [
      "11\n",
      "12\n",
      "13\n",
      "14\n"
     ]
    }
   ],
   "source": [
    "#for statement\n",
    "\n",
    "students_list = [11,12,13,14]\n",
    "for students in students_list:\n",
    "    print(students)"
   ]
  },
  {
   "cell_type": "code",
   "execution_count": 8,
   "id": "ad4a03b6",
   "metadata": {},
   "outputs": [
    {
     "name": "stdout",
     "output_type": "stream",
     "text": [
      "ID NUMBER\n",
      "ID NUMBER\n",
      "ID NUMBER\n",
      "ID NUMBER\n",
      "ID NUMBER\n",
      "ID NUMBER\n",
      "ID NUMBER\n",
      "ID NUMBER\n",
      "ID NUMBER\n",
      "ID NUMBER\n",
      "ID NUMBER\n",
      "ID NUMBER\n"
     ]
    }
   ],
   "source": [
    "#while statement\n",
    "\n",
    "# numOfItems= int(input(\"How many items did you purchase.\"))\n",
    "\n",
    "numOfItems = 12\n",
    "counter = 1\n",
    "while counter <= numOfItems:\n",
    "    print(\"ID NUMBER\")\n",
    "    counter = counter + 1\n",
    "  "
   ]
  },
  {
   "cell_type": "code",
   "execution_count": 12,
   "id": "06c27bf7",
   "metadata": {},
   "outputs": [
    {
     "name": "stdout",
     "output_type": "stream",
     "text": [
      "Enter N:13\n",
      "78\n"
     ]
    }
   ],
   "source": [
    "#program to add natural numbers upto \n",
    "#sum = 1+2+3+......+n\n",
    "\n",
    "\n",
    "num = int(input(\"Enter N:\"))\n",
    "\n",
    "num = 12\n",
    "counter = 1\n",
    "sums = 0\n",
    "\n",
    "while counter <= num:\n",
    "    sums = sums + counter\n",
    "    counter +=1\n",
    "    \n",
    "print(sums)"
   ]
  },
  {
   "cell_type": "code",
   "execution_count": 13,
   "id": "b2a1106b",
   "metadata": {},
   "outputs": [
    {
     "data": {
      "text/plain": [
       "4.0"
      ]
     },
     "execution_count": 13,
     "metadata": {},
     "output_type": "execute_result"
    }
   ],
   "source": [
    "from math import sqrt\n",
    "sqrt(16)"
   ]
  },
  {
   "cell_type": "code",
   "execution_count": 15,
   "id": "36f18d33",
   "metadata": {},
   "outputs": [
    {
     "data": {
      "text/plain": [
       "2.312535423847214"
      ]
     },
     "execution_count": 15,
     "metadata": {},
     "output_type": "execute_result"
    }
   ],
   "source": [
    "import math\n",
    " \n",
    "math.log(10.10)"
   ]
  },
  {
   "cell_type": "code",
   "execution_count": 24,
   "id": "4f5df64b",
   "metadata": {},
   "outputs": [],
   "source": [
    "#range\n",
    "\n",
    "even_list =[]\n",
    "odd_list = []\n",
    "\n",
    "for i in range (1,31):\n",
    "    if i % 2== 0:\n",
    "      even_list.append(i)\n",
    "    else:\n",
    "        odd_list.append(i)\n",
    "        "
   ]
  },
  {
   "cell_type": "code",
   "execution_count": 25,
   "id": "49b4b5ec",
   "metadata": {},
   "outputs": [
    {
     "data": {
      "text/plain": [
       "[2, 4, 6, 8, 10, 12, 14, 16, 18, 20, 22, 24, 26, 28, 30]"
      ]
     },
     "execution_count": 25,
     "metadata": {},
     "output_type": "execute_result"
    }
   ],
   "source": [
    "even_list\n"
   ]
  },
  {
   "cell_type": "code",
   "execution_count": 26,
   "id": "219416c7",
   "metadata": {},
   "outputs": [
    {
     "data": {
      "text/plain": [
       "[1, 3, 5, 7, 9, 11, 13, 15, 17, 19, 21, 23, 25, 27, 29]"
      ]
     },
     "execution_count": 26,
     "metadata": {},
     "output_type": "execute_result"
    }
   ],
   "source": [
    "odd_list"
   ]
  },
  {
   "cell_type": "code",
   "execution_count": 27,
   "id": "5dd9c7db",
   "metadata": {},
   "outputs": [
    {
     "data": {
      "text/plain": [
       "6"
      ]
     },
     "execution_count": 27,
     "metadata": {},
     "output_type": "execute_result"
    }
   ],
   "source": [
    "#sum function\n",
    "\n",
    "sum([1,2,3])"
   ]
  },
  {
   "cell_type": "code",
   "execution_count": 32,
   "id": "3aaa2b81",
   "metadata": {},
   "outputs": [
    {
     "name": "stdout",
     "output_type": "stream",
     "text": [
      "good\n",
      "good\n",
      "good\n",
      "good\n",
      "good\n",
      "good\n",
      "good\n",
      "good\n",
      "good\n",
      "good\n"
     ]
    }
   ],
   "source": [
    "k = 1\n",
    "val= 10\n",
    "while k <= val:\n",
    "    print(\"good\")\n",
    "    \n",
    "    k = k +1 "
   ]
  },
  {
   "cell_type": "code",
   "execution_count": null,
   "id": "0ed14554",
   "metadata": {},
   "outputs": [],
   "source": []
  }
 ],
 "metadata": {
  "kernelspec": {
   "display_name": "Python 3 (ipykernel)",
   "language": "python",
   "name": "python3"
  },
  "language_info": {
   "codemirror_mode": {
    "name": "ipython",
    "version": 3
   },
   "file_extension": ".py",
   "mimetype": "text/x-python",
   "name": "python",
   "nbconvert_exporter": "python",
   "pygments_lexer": "ipython3",
   "version": "3.10.9"
  }
 },
 "nbformat": 4,
 "nbformat_minor": 5
}
